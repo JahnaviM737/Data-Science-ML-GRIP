{
  "nbformat": 4,
  "nbformat_minor": 0,
  "metadata": {
    "colab": {
      "provenance": [],
      "collapsed_sections": [
        "ZrOitF7kPXWf",
        "Jl83lpx1PeYj"
      ],
      "authorship_tag": "ABX9TyP35EkGOYjqAEcAkPt206Ty",
      "include_colab_link": true
    },
    "kernelspec": {
      "name": "python3",
      "display_name": "Python 3"
    },
    "language_info": {
      "name": "python"
    }
  },
  "cells": [
    {
      "cell_type": "markdown",
      "metadata": {
        "id": "view-in-github",
        "colab_type": "text"
      },
      "source": [
        "<a href=\"https://colab.research.google.com/github/JahnaviM737/Data-Science-ML-GRIP/blob/master/T02_K_Means_Clustering.ipynb\" target=\"_parent\"><img src=\"https://colab.research.google.com/assets/colab-badge.svg\" alt=\"Open In Colab\"/></a>"
      ]
    },
    {
      "cell_type": "markdown",
      "source": [
        "# TASK 02 : K-MEANS CLUSTERING\n",
        "### UNSUPERVISED LEARNING\n",
        "By Jahnavi Mulchandani"
      ],
      "metadata": {
        "id": "Dc4zRYcfY2xO"
      }
    },
    {
      "cell_type": "markdown",
      "source": [
        "### GATHERING DATA"
      ],
      "metadata": {
        "id": "ZrOitF7kPXWf"
      }
    },
    {
      "cell_type": "code",
      "execution_count": 54,
      "metadata": {
        "id": "KJKFJpMJYXuI"
      },
      "outputs": [],
      "source": [
        "# Importing Necessary libraries\n",
        "import pandas as pd\n",
        "import matplotlib.pyplot as plt\n",
        "from sklearn import datasets"
      ]
    },
    {
      "cell_type": "code",
      "source": [
        "# Import csv data\n",
        "data = datasets.load_iris() # This returns a dictionary\n",
        "col_names = ['sepal_len_cm', 'sepal_width_cm', 'petal_len_cm', 'petal_width_cm']\n",
        "data_df = pd.DataFrame(data['data'], columns=col_names)\n",
        "data_df.head()"
      ],
      "metadata": {
        "colab": {
          "base_uri": "https://localhost:8080/",
          "height": 206
        },
        "id": "3-xgO76G8CTz",
        "outputId": "a4aae834-6838-4f3f-ff41-2f24eb6736af"
      },
      "execution_count": 55,
      "outputs": [
        {
          "output_type": "execute_result",
          "data": {
            "text/plain": [
              "   sepal_len_cm  sepal_width_cm  petal_len_cm  petal_width_cm\n",
              "0           5.1             3.5           1.4             0.2\n",
              "1           4.9             3.0           1.4             0.2\n",
              "2           4.7             3.2           1.3             0.2\n",
              "3           4.6             3.1           1.5             0.2\n",
              "4           5.0             3.6           1.4             0.2"
            ],
            "text/html": [
              "\n",
              "  <div id=\"df-b3b614fc-1185-442e-bbaa-f992e614b3bf\">\n",
              "    <div class=\"colab-df-container\">\n",
              "      <div>\n",
              "<style scoped>\n",
              "    .dataframe tbody tr th:only-of-type {\n",
              "        vertical-align: middle;\n",
              "    }\n",
              "\n",
              "    .dataframe tbody tr th {\n",
              "        vertical-align: top;\n",
              "    }\n",
              "\n",
              "    .dataframe thead th {\n",
              "        text-align: right;\n",
              "    }\n",
              "</style>\n",
              "<table border=\"1\" class=\"dataframe\">\n",
              "  <thead>\n",
              "    <tr style=\"text-align: right;\">\n",
              "      <th></th>\n",
              "      <th>sepal_len_cm</th>\n",
              "      <th>sepal_width_cm</th>\n",
              "      <th>petal_len_cm</th>\n",
              "      <th>petal_width_cm</th>\n",
              "    </tr>\n",
              "  </thead>\n",
              "  <tbody>\n",
              "    <tr>\n",
              "      <th>0</th>\n",
              "      <td>5.1</td>\n",
              "      <td>3.5</td>\n",
              "      <td>1.4</td>\n",
              "      <td>0.2</td>\n",
              "    </tr>\n",
              "    <tr>\n",
              "      <th>1</th>\n",
              "      <td>4.9</td>\n",
              "      <td>3.0</td>\n",
              "      <td>1.4</td>\n",
              "      <td>0.2</td>\n",
              "    </tr>\n",
              "    <tr>\n",
              "      <th>2</th>\n",
              "      <td>4.7</td>\n",
              "      <td>3.2</td>\n",
              "      <td>1.3</td>\n",
              "      <td>0.2</td>\n",
              "    </tr>\n",
              "    <tr>\n",
              "      <th>3</th>\n",
              "      <td>4.6</td>\n",
              "      <td>3.1</td>\n",
              "      <td>1.5</td>\n",
              "      <td>0.2</td>\n",
              "    </tr>\n",
              "    <tr>\n",
              "      <th>4</th>\n",
              "      <td>5.0</td>\n",
              "      <td>3.6</td>\n",
              "      <td>1.4</td>\n",
              "      <td>0.2</td>\n",
              "    </tr>\n",
              "  </tbody>\n",
              "</table>\n",
              "</div>\n",
              "      <button class=\"colab-df-convert\" onclick=\"convertToInteractive('df-b3b614fc-1185-442e-bbaa-f992e614b3bf')\"\n",
              "              title=\"Convert this dataframe to an interactive table.\"\n",
              "              style=\"display:none;\">\n",
              "        \n",
              "  <svg xmlns=\"http://www.w3.org/2000/svg\" height=\"24px\"viewBox=\"0 0 24 24\"\n",
              "       width=\"24px\">\n",
              "    <path d=\"M0 0h24v24H0V0z\" fill=\"none\"/>\n",
              "    <path d=\"M18.56 5.44l.94 2.06.94-2.06 2.06-.94-2.06-.94-.94-2.06-.94 2.06-2.06.94zm-11 1L8.5 8.5l.94-2.06 2.06-.94-2.06-.94L8.5 2.5l-.94 2.06-2.06.94zm10 10l.94 2.06.94-2.06 2.06-.94-2.06-.94-.94-2.06-.94 2.06-2.06.94z\"/><path d=\"M17.41 7.96l-1.37-1.37c-.4-.4-.92-.59-1.43-.59-.52 0-1.04.2-1.43.59L10.3 9.45l-7.72 7.72c-.78.78-.78 2.05 0 2.83L4 21.41c.39.39.9.59 1.41.59.51 0 1.02-.2 1.41-.59l7.78-7.78 2.81-2.81c.8-.78.8-2.07 0-2.86zM5.41 20L4 18.59l7.72-7.72 1.47 1.35L5.41 20z\"/>\n",
              "  </svg>\n",
              "      </button>\n",
              "      \n",
              "  <style>\n",
              "    .colab-df-container {\n",
              "      display:flex;\n",
              "      flex-wrap:wrap;\n",
              "      gap: 12px;\n",
              "    }\n",
              "\n",
              "    .colab-df-convert {\n",
              "      background-color: #E8F0FE;\n",
              "      border: none;\n",
              "      border-radius: 50%;\n",
              "      cursor: pointer;\n",
              "      display: none;\n",
              "      fill: #1967D2;\n",
              "      height: 32px;\n",
              "      padding: 0 0 0 0;\n",
              "      width: 32px;\n",
              "    }\n",
              "\n",
              "    .colab-df-convert:hover {\n",
              "      background-color: #E2EBFA;\n",
              "      box-shadow: 0px 1px 2px rgba(60, 64, 67, 0.3), 0px 1px 3px 1px rgba(60, 64, 67, 0.15);\n",
              "      fill: #174EA6;\n",
              "    }\n",
              "\n",
              "    [theme=dark] .colab-df-convert {\n",
              "      background-color: #3B4455;\n",
              "      fill: #D2E3FC;\n",
              "    }\n",
              "\n",
              "    [theme=dark] .colab-df-convert:hover {\n",
              "      background-color: #434B5C;\n",
              "      box-shadow: 0px 1px 3px 1px rgba(0, 0, 0, 0.15);\n",
              "      filter: drop-shadow(0px 1px 2px rgba(0, 0, 0, 0.3));\n",
              "      fill: #FFFFFF;\n",
              "    }\n",
              "  </style>\n",
              "\n",
              "      <script>\n",
              "        const buttonEl =\n",
              "          document.querySelector('#df-b3b614fc-1185-442e-bbaa-f992e614b3bf button.colab-df-convert');\n",
              "        buttonEl.style.display =\n",
              "          google.colab.kernel.accessAllowed ? 'block' : 'none';\n",
              "\n",
              "        async function convertToInteractive(key) {\n",
              "          const element = document.querySelector('#df-b3b614fc-1185-442e-bbaa-f992e614b3bf');\n",
              "          const dataTable =\n",
              "            await google.colab.kernel.invokeFunction('convertToInteractive',\n",
              "                                                     [key], {});\n",
              "          if (!dataTable) return;\n",
              "\n",
              "          const docLinkHtml = 'Like what you see? Visit the ' +\n",
              "            '<a target=\"_blank\" href=https://colab.research.google.com/notebooks/data_table.ipynb>data table notebook</a>'\n",
              "            + ' to learn more about interactive tables.';\n",
              "          element.innerHTML = '';\n",
              "          dataTable['output_type'] = 'display_data';\n",
              "          await google.colab.output.renderOutput(dataTable, element);\n",
              "          const docLink = document.createElement('div');\n",
              "          docLink.innerHTML = docLinkHtml;\n",
              "          element.appendChild(docLink);\n",
              "        }\n",
              "      </script>\n",
              "    </div>\n",
              "  </div>\n",
              "  "
            ]
          },
          "metadata": {},
          "execution_count": 55
        }
      ]
    },
    {
      "cell_type": "markdown",
      "source": [
        "### PREPARING FEATURE VECTOR"
      ],
      "metadata": {
        "id": "Jl83lpx1PeYj"
      }
    },
    {
      "cell_type": "code",
      "source": [
        "# Generating feature vector x\n",
        "X = data_df.iloc[:,:].values # values converts it into arrays"
      ],
      "metadata": {
        "id": "V4gW7CfO-nFg"
      },
      "execution_count": 56,
      "outputs": []
    },
    {
      "cell_type": "markdown",
      "source": [
        "### ELBOW METHOD FOR DETERMINING 'K'"
      ],
      "metadata": {
        "id": "GKghDAa9Pi9M"
      }
    },
    {
      "cell_type": "code",
      "source": [
        "# K-means algorithm on a range of k values\n",
        "from sklearn.cluster import KMeans\n",
        "\n",
        "\"\"\" \n",
        "K-Means: Inertia\n",
        "Inertia measures how well a dataset was clustered by K-Means. \n",
        "It is calculated by measuring the distance between each data point and its centroid, squaring this distance, and summing these squares across \n",
        "one cluster. A good model is one with low inertia AND a low number of clusters ( K ). \n",
        "\"\"\"\n",
        "inertias = [] #Within cluster sum of squares\n",
        "for i in range(1,11):\n",
        "  model = KMeans(n_clusters=i)\n",
        "  model.fit(X)\n",
        "  inertias.append(model.inertia_)\n",
        "\n",
        "print(inertias)"
      ],
      "metadata": {
        "colab": {
          "base_uri": "https://localhost:8080/"
        },
        "id": "YvJMhSn8Aljj",
        "outputId": "22d57939-5edd-4e66-e831-627719af681f"
      },
      "execution_count": 57,
      "outputs": [
        {
          "output_type": "stream",
          "name": "stdout",
          "text": [
            "[681.3706, 152.3479517603579, 78.851441426146, 57.25600931571816, 46.446182051282065, 39.066035353535355, 34.57242002200699, 30.06459307359308, 27.86291131237185, 26.392494645705177]\n"
          ]
        }
      ]
    },
    {
      "cell_type": "code",
      "source": [
        "# Plotting line grapn for inertias [THE ELBOW METHOD]\n",
        "plt.plot(range(1,11), inertias)\n",
        "plt.xlabel(\"Number of Clusters [k]\")\n",
        "plt.ylabel(\" Inertia\")\n",
        "plt.title(\"The elbow method\")\n",
        "plt.show()"
      ],
      "metadata": {
        "colab": {
          "base_uri": "https://localhost:8080/",
          "height": 295
        },
        "id": "RLbOBihzDBuX",
        "outputId": "d2806a2e-cc1d-4eda-a1c5-5d64cf15c09d"
      },
      "execution_count": 58,
      "outputs": [
        {
          "output_type": "display_data",
          "data": {
            "text/plain": [
              "<Figure size 432x288 with 1 Axes>"
            ],
            "image/png": "[encoded data removed]"
          },
          "metadata": {
            "needs_background": "light"
          }
        }
      ]
    },
    {
      "cell_type": "markdown",
      "source": [
        "### FINAL K-MEANS MODEL "
      ],
      "metadata": {
        "id": "6XaNmtS_PpJD"
      }
    },
    {
      "cell_type": "code",
      "source": [
        "# We choose the number of clusters as 3, since that is where the elblow occurs\n",
        "model = KMeans(n_clusters = 3)\n",
        "model.fit(X)\n",
        "y_kmeans = model.fit_predict(X)\n",
        "print(y_kmeans)\n",
        "centroids = model.cluster_centers_\n",
        "print(centroids)"
      ],
      "metadata": {
        "colab": {
          "base_uri": "https://localhost:8080/"
        },
        "id": "DDp_BPBdFtRw",
        "outputId": "39247939-ba97-467e-f405-19defb137966"
      },
      "execution_count": 59,
      "outputs": [
        {
          "output_type": "stream",
          "name": "stdout",
          "text": [
            "[1 1 1 1 1 1 1 1 1 1 1 1 1 1 1 1 1 1 1 1 1 1 1 1 1 1 1 1 1 1 1 1 1 1 1 1 1\n",
            " 1 1 1 1 1 1 1 1 1 1 1 1 1 0 0 2 0 0 0 0 0 0 0 0 0 0 0 0 0 0 0 0 0 0 0 0 0\n",
            " 0 0 0 2 0 0 0 0 0 0 0 0 0 0 0 0 0 0 0 0 0 0 0 0 0 0 2 0 2 2 2 2 0 2 2 2 2\n",
            " 2 2 0 0 2 2 2 2 0 2 0 2 0 2 2 0 0 2 2 2 2 2 0 2 2 2 2 0 2 2 2 0 2 2 2 0 2\n",
            " 2 0]\n",
            "[[5.9016129  2.7483871  4.39354839 1.43387097]\n",
            " [5.006      3.428      1.462      0.246     ]\n",
            " [6.85       3.07368421 5.74210526 2.07105263]]\n"
          ]
        }
      ]
    },
    {
      "cell_type": "code",
      "source": [
        "# Scatter Plot\n",
        "plt.scatter(X[y_kmeans == 0,0] , X[y_kmeans == 0, 2], c = 'red') # Rows for which cluster val == 0 ; cols 0 and 2\n",
        "plt.scatter(X[y_kmeans == 1,0] , X[y_kmeans == 1, 2], c = 'yellow') # Rows for which cluster val == 1 ; cols 0 and 2\n",
        "plt.scatter(X[y_kmeans == 2,0] , X[y_kmeans == 2, 2], c = 'blue') # Rows for which cluster val == 2 ; cols 0 and 2\n",
        "plt.scatter(centroids[:,0], centroids[:,2], c = \"black\", label = \"centroids\")\n",
        "plt.xlabel(\"Sepal Length [cm]\")\n",
        "plt.ylabel(\"Petal Length [cm]\")\n",
        "plt.title(\"Clusters of Iris\")\n",
        "plt.show()"
      ],
      "metadata": {
        "colab": {
          "base_uri": "https://localhost:8080/",
          "height": 295
        },
        "id": "LxwbYPxpJNlQ",
        "outputId": "ffc217db-7a5a-477f-dfae-ad5c10fc3b72"
      },
      "execution_count": 60,
      "outputs": [
        {
          "output_type": "display_data",
          "data": {
            "text/plain": [
              "<Figure size 432x288 with 1 Axes>"
            ],
            "image/png": "[encoded data removed]"
          },
          "metadata": {
            "needs_background": "light"
          }
        }
      ]
    }
  ]
}