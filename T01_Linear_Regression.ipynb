{
  "nbformat": 4,
  "nbformat_minor": 0,
  "metadata": {
    "colab": {
      "provenance": [],
      "collapsed_sections": [
        "B9_8de8-HY6T",
        "fR7lYvEPLUlV",
        "5-hz_YjYLYBV",
        "OKqPXVvqLa9A",
        "2tBt_dHtLpjL"
      ],
      "authorship_tag": "ABX9TyOAT3HDR80KUfgdOdU4qIab",
      "include_colab_link": true
    },
    "kernelspec": {
      "name": "python3",
      "display_name": "Python 3"
    },
    "language_info": {
      "name": "python"
    }
  },
  "cells": [
    {
      "cell_type": "markdown",
      "metadata": {
        "id": "view-in-github",
        "colab_type": "text"
      },
      "source": [
        "<a href=\"https://colab.research.google.com/github/JahnaviM737/Data-Science-ML-GRIP/blob/master/T01_Linear_Regression.ipynb\" target=\"_parent\"><img src=\"https://colab.research.google.com/assets/colab-badge.svg\" alt=\"Open In Colab\"/></a>"
      ]
    },
    {
      "cell_type": "markdown",
      "source": [
        "# TASK 01 : LINEAR REGRESSION\n",
        "### SUPERVISED LEARNING\n",
        "By Jahnavi Mulchandani"
      ],
      "metadata": {
        "id": "LcBt7IvULyG7"
      }
    },
    {
      "cell_type": "markdown",
      "source": [
        "### GATHERING DATA"
      ],
      "metadata": {
        "id": "B9_8de8-HY6T"
      }
    },
    {
      "cell_type": "code",
      "execution_count": 4,
      "metadata": {
        "id": "Nx8hgT7cHBIn"
      },
      "outputs": [],
      "source": [
        "#Importing libraries\n",
        "import pandas as pd\n",
        "import numpy as np\n",
        "import matplotlib.pyplot as plt"
      ]
    },
    {
      "cell_type": "code",
      "source": [
        "#Reading csv data from given source\n",
        "url = \"http://bit.ly/w-data\"\n",
        "data = pd.read_csv(url)\n",
        "print(data.describe()) #Metadata\n",
        "print(\"\\n\\n\", data.head()) #First 5 rows of the data"
      ],
      "metadata": {
        "colab": {
          "base_uri": "https://localhost:8080/"
        },
        "id": "zCn3uEK1HlPO",
        "outputId": "b6b4fb49-b843-44d5-8691-0c4c55c11d5e"
      },
      "execution_count": 8,
      "outputs": [
        {
          "output_type": "stream",
          "name": "stdout",
          "text": [
            "           Hours     Scores\n",
            "count  25.000000  25.000000\n",
            "mean    5.012000  51.480000\n",
            "std     2.525094  25.286887\n",
            "min     1.100000  17.000000\n",
            "25%     2.700000  30.000000\n",
            "50%     4.800000  47.000000\n",
            "75%     7.400000  75.000000\n",
            "max     9.200000  95.000000\n",
            "\n",
            "\n",
            "    Hours  Scores\n",
            "0    2.5      21\n",
            "1    5.1      47\n",
            "2    3.2      27\n",
            "3    8.5      75\n",
            "4    3.5      30\n"
          ]
        }
      ]
    },
    {
      "cell_type": "code",
      "source": [
        "#Visualising the data [scatter plot]\n",
        "data.plot(x=\"Hours\", y=\"Scores\", kind=\"scatter\")\n",
        "plt.title(\"Hours Studied vs Scores Received\")\n",
        "plt.xlabel(\"Hours Studied\")\n",
        "plt.ylabel(\"Scores Received\")\n",
        "plt.show()"
      ],
      "metadata": {
        "colab": {
          "base_uri": "https://localhost:8080/",
          "height": 295
        },
        "id": "BCDPEvJuJOET",
        "outputId": "510cb02f-786e-49bb-d4e8-7fbcac01fc35"
      },
      "execution_count": 20,
      "outputs": [
        {
          "output_type": "display_data",
          "data": {
            "text/plain": [
              "<Figure size 432x288 with 1 Axes>"
            ],
            "image/png": "[encoded data removed]"
          },
          "metadata": {
            "needs_background": "light"
          }
        }
      ]
    },
    {
      "cell_type": "markdown",
      "source": [
        "### PREPARING THE DATA"
      ],
      "metadata": {
        "id": "fR7lYvEPLUlV"
      }
    },
    {
      "cell_type": "code",
      "source": [
        "# Setting X and y variables\n",
        "# values method converts it into an array\n",
        "X = data.iloc[:,:-1].values # All rows, all columns till the second to last column\n",
        "y = data.iloc[:,-1].values # All rows and last column"
      ],
      "metadata": {
        "id": "dSsHarIHL72H"
      },
      "execution_count": 44,
      "outputs": []
    },
    {
      "cell_type": "code",
      "source": [
        "#Splitting data into train and test sets\n",
        "from sklearn.model_selection import train_test_split\n",
        "X_train, X_test, y_train, y_test = train_test_split(X, y, test_size = 0.25, random_state=0)"
      ],
      "metadata": {
        "id": "B4tRm34wNpXO"
      },
      "execution_count": 45,
      "outputs": []
    },
    {
      "cell_type": "markdown",
      "source": [
        "### TRAINING THE MODEL"
      ],
      "metadata": {
        "id": "5-hz_YjYLYBV"
      }
    },
    {
      "cell_type": "code",
      "source": [
        "# Creating Linear Regressor\n",
        "from sklearn import linear_model\n",
        "lin_reg = linear_model.LinearRegression()\n",
        "lin_reg.fit(X_train, y_train)"
      ],
      "metadata": {
        "colab": {
          "base_uri": "https://localhost:8080/"
        },
        "id": "dDrGqr7hOqDm",
        "outputId": "e4089846-064e-4024-b565-5e0947546927"
      },
      "execution_count": 59,
      "outputs": [
        {
          "output_type": "execute_result",
          "data": {
            "text/plain": [
              "LinearRegression()"
            ]
          },
          "metadata": {},
          "execution_count": 59
        }
      ]
    },
    {
      "cell_type": "code",
      "source": [
        "#Plotting Regression Line\n",
        "line = lin_reg.coef_ * X + lin_reg.intercept_\n",
        "plt.plot(X,line)\n",
        "plt.scatter(X, y)\n",
        "plt.title(\"Hours Studied vs Scores Received\")\n",
        "plt.xlabel(\"Hours Studied\")\n",
        "plt.ylabel(\"Scores Received\")\n",
        "plt.show()"
      ],
      "metadata": {
        "colab": {
          "base_uri": "https://localhost:8080/",
          "height": 295
        },
        "id": "NxT7CGIGQiMG",
        "outputId": "f72fafd7-c5ac-4019-acae-e27df5e4cb09"
      },
      "execution_count": 60,
      "outputs": [
        {
          "output_type": "display_data",
          "data": {
            "text/plain": [
              "<Figure size 432x288 with 1 Axes>"
            ],
            "image/png": "[encoded data removed]"
          },
          "metadata": {
            "needs_background": "light"
          }
        }
      ]
    },
    {
      "cell_type": "markdown",
      "source": [
        "### MAKING PREDICTIONS"
      ],
      "metadata": {
        "id": "OKqPXVvqLa9A"
      }
    },
    {
      "cell_type": "code",
      "source": [
        "#Predicting on test set\n",
        "y_pred = lin_reg.predict(X_test)\n",
        "print(pd.DataFrame({'X_test': X_test[:,0], 'y_pred':y_pred})) # X_test is a 2D array"
      ],
      "metadata": {
        "colab": {
          "base_uri": "https://localhost:8080/"
        },
        "id": "zRZCBEaSSWDV",
        "outputId": "403a5d26-14af-44c8-8a88-251c8a345b92"
      },
      "execution_count": 61,
      "outputs": [
        {
          "output_type": "stream",
          "name": "stdout",
          "text": [
            "   X_test     y_pred\n",
            "0     1.5  16.844722\n",
            "1     3.2  33.745575\n",
            "2     7.4  75.500624\n",
            "3     2.5  26.786400\n",
            "4     5.9  60.588106\n",
            "5     3.8  39.710582\n",
            "6     1.9  20.821393\n"
          ]
        }
      ]
    },
    {
      "cell_type": "code",
      "source": [
        "#Predicting scores for given number of hours\n",
        "hours = [[9.25]]\n",
        "result = lin_reg.predict(hours)\n",
        "print(f'Number of Hours : {hours[0][0]} \\nPredicted Score : {result[0]}')"
      ],
      "metadata": {
        "colab": {
          "base_uri": "https://localhost:8080/"
        },
        "id": "WBOlpR2IUHWo",
        "outputId": "62e4219f-6111-4197-cd5d-4e14c7c2a78e"
      },
      "execution_count": 65,
      "outputs": [
        {
          "output_type": "stream",
          "name": "stdout",
          "text": [
            "Number of Hours : 9.25 \n",
            "Predicted Score : 93.89272889341652\n"
          ]
        }
      ]
    },
    {
      "cell_type": "markdown",
      "source": [
        "### EVALUATING THE PERFORMANCE\n",
        "#### > Mean Absolute Error\n",
        "#### > Mean Squared Error"
      ],
      "metadata": {
        "id": "2tBt_dHtLpjL"
      }
    },
    {
      "cell_type": "code",
      "source": [
        "# Predicted vs Actual values\n",
        "df = pd.DataFrame({'X_test': X_test[:,0], 'Y Predicted': y_pred, 'Y Actual': y_test})\n",
        "print(df)"
      ],
      "metadata": {
        "colab": {
          "base_uri": "https://localhost:8080/"
        },
        "id": "BSH44-vVVvyG",
        "outputId": "7b792883-4329-4d98-a3e1-38108b2a18c0"
      },
      "execution_count": 66,
      "outputs": [
        {
          "output_type": "stream",
          "name": "stdout",
          "text": [
            "   X_test  Y Predicted  Y Actual\n",
            "0     1.5    16.844722        20\n",
            "1     3.2    33.745575        27\n",
            "2     7.4    75.500624        69\n",
            "3     2.5    26.786400        30\n",
            "4     5.9    60.588106        62\n",
            "5     3.8    39.710582        35\n",
            "6     1.9    20.821393        24\n"
          ]
        }
      ]
    },
    {
      "cell_type": "code",
      "source": [
        "# Mean Absolute and Squared Error\n",
        "from sklearn import metrics\n",
        "mae = metrics.mean_absolute_error(y_true=y_test, y_pred=y_pred)\n",
        "mse = metrics.mean_squared_error(y_true=y_test, y_pred=y_pred)\n",
        "print(f\"Mean Absolute Error : {mae}\")\n",
        "print(f\"Mean Squared Error : {mse}\")"
      ],
      "metadata": {
        "colab": {
          "base_uri": "https://localhost:8080/"
        },
        "id": "NhIOyzv0WHVq",
        "outputId": "11f5b4d6-949e-49ef-b62f-6081fdd53464"
      },
      "execution_count": 70,
      "outputs": [
        {
          "output_type": "stream",
          "name": "stdout",
          "text": [
            "Mean Absolute Error : 4.130879918502482\n",
            "Mean Squared Error : 20.33292367497996\n"
          ]
        }
      ]
    }
  ]
}